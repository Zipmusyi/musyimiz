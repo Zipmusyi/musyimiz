{
 "cells": [
  {
   "cell_type": "code",
   "execution_count": 1,
   "metadata": {},
   "outputs": [
    {
     "data": {
      "text/plain": [
       "2.82842712474619"
      ]
     },
     "execution_count": 1,
     "metadata": {},
     "output_type": "execute_result"
    }
   ],
   "source": [
    "###function to estimate the square root using newtom method\n",
    "\n",
    "import math\n",
    "def my_sqrt(a):\n",
    "    x= a/2      #a should be a positive interger and <0; x= a/2 is the intial value for x\n",
    "    while True:\n",
    "        y = (x + a/x) / 2.0\n",
    "        if abs(y-x) <  0.0000001 :\n",
    "            return y\n",
    "            break\n",
    "        x = y \n",
    "        \n",
    "my_sqrt(8) #est if the function is working \n",
    "\n"
   ]
  },
  {
   "cell_type": "code",
   "execution_count": 2,
   "metadata": {},
   "outputs": [
    {
     "name": "stdout",
     "output_type": "stream",
     "text": [
      "a= 1 | my_sqrt= 1.000000000000001 | math.sqrt(a) = 1.0 | diff = 1.1102230246251565e-15\n",
      "a= 2 | my_sqrt= 1.414213562373095 | math.sqrt(a) = 1.4142135623730951 | diff = 2.220446049250313e-16\n",
      "a= 3 | my_sqrt= 1.7320508075688772 | math.sqrt(a) = 1.7320508075688772 | diff = 0.0\n",
      "a= 4 | my_sqrt= 2.0 | math.sqrt(a) = 2.0 | diff = 0.0\n",
      "a= 5 | my_sqrt= 2.23606797749979 | math.sqrt(a) = 2.23606797749979 | diff = 0.0\n",
      "a= 6 | my_sqrt= 2.4494897427831788 | math.sqrt(a) = 2.449489742783178 | diff = 8.881784197001252e-16\n",
      "a= 7 | my_sqrt= 2.6457513110645907 | math.sqrt(a) = 2.6457513110645907 | diff = 0.0\n",
      "a= 8 | my_sqrt= 2.82842712474619 | math.sqrt(a) = 2.8284271247461903 | diff = 4.440892098500626e-16\n",
      "a= 9 | my_sqrt= 3.0 | math.sqrt(a) = 3.0 | diff = 0.0\n",
      "a= 10 | my_sqrt= 3.162277660168379 | math.sqrt(a) = 3.1622776601683795 | diff = 4.440892098500626e-16\n",
      "a= 11 | my_sqrt= 3.3166247903554 | math.sqrt(a) = 3.3166247903554 | diff = 0.0\n",
      "a= 12 | my_sqrt= 3.4641016151377544 | math.sqrt(a) = 3.4641016151377544 | diff = 0.0\n",
      "a= 13 | my_sqrt= 3.6055512754639896 | math.sqrt(a) = 3.605551275463989 | diff = 4.440892098500626e-16\n",
      "a= 14 | my_sqrt= 3.7416573867739418 | math.sqrt(a) = 3.7416573867739413 | diff = 4.440892098500626e-16\n",
      "a= 15 | my_sqrt= 3.872983346207418 | math.sqrt(a) = 3.872983346207417 | diff = 8.881784197001252e-16\n",
      "a= 16 | my_sqrt= 4.0 | math.sqrt(a) = 4.0 | diff = 0.0\n",
      "a= 17 | my_sqrt= 4.123105625617661 | math.sqrt(a) = 4.123105625617661 | diff = 0.0\n",
      "a= 18 | my_sqrt= 4.242640687119286 | math.sqrt(a) = 4.242640687119285 | diff = 8.881784197001252e-16\n",
      "a= 19 | my_sqrt= 4.358898943540673 | math.sqrt(a) = 4.358898943540674 | diff = 8.881784197001252e-16\n",
      "a= 20 | my_sqrt= 4.47213595499958 | math.sqrt(a) = 4.47213595499958 | diff = 0.0\n",
      "a= 21 | my_sqrt= 4.58257569495584 | math.sqrt(a) = 4.58257569495584 | diff = 0.0\n",
      "a= 22 | my_sqrt= 4.69041575982343 | math.sqrt(a) = 4.69041575982343 | diff = 0.0\n",
      "a= 23 | my_sqrt= 4.795831523312719 | math.sqrt(a) = 4.795831523312719 | diff = 0.0\n",
      "a= 24 | my_sqrt= 4.898979485566356 | math.sqrt(a) = 4.898979485566356 | diff = 0.0\n",
      "a= 25 | my_sqrt= 5.0 | math.sqrt(a) = 5.0 | diff = 0.0\n"
     ]
    },
    {
     "data": {
      "text/plain": [
       "'Done'"
      ]
     },
     "execution_count": 2,
     "metadata": {},
     "output_type": "execute_result"
    }
   ],
   "source": [
    "def test_sqr():##a function to test the \n",
    "    a=1\n",
    "    while a< 26:\n",
    "        print(\"a=\",a,\"|\" \"\",\"my_sqrt=\", my_sqrt(a),\"|\" \"\",\"math.sqrt(a) =\", math.sqrt(a),\"|\" \"\",\"diff =\", abs(math.sqrt(a)-my_sqrt(a)) )\n",
    "        a = a + 1\n",
    "    return \"Done\"\n",
    "\n",
    "\n",
    "test_sqr()"
   ]
  },
  {
   "cell_type": "code",
   "execution_count": null,
   "metadata": {},
   "outputs": [],
   "source": []
  }
 ],
 "metadata": {
  "kernelspec": {
   "display_name": "Python 3",
   "language": "python",
   "name": "python3"
  },
  "language_info": {
   "codemirror_mode": {
    "name": "ipython",
    "version": 3
   },
   "file_extension": ".py",
   "mimetype": "text/x-python",
   "name": "python",
   "nbconvert_exporter": "python",
   "pygments_lexer": "ipython3",
   "version": "3.7.6"
  }
 },
 "nbformat": 4,
 "nbformat_minor": 4
}
