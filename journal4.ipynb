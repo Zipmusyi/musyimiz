{
 "cells": [
  {
   "cell_type": "code",
   "execution_count": 4,
   "metadata": {},
   "outputs": [
    {
     "data": {
      "text/plain": [
       "0.0"
      ]
     },
     "execution_count": 4,
     "metadata": {},
     "output_type": "execute_result"
    }
   ],
   "source": [
    "#####part 1 \n",
    "#Assuming the lengths of the right angled triangle are a,b and c.\n",
    "# the hypotenuse c=√(a^2+b^2 )\n",
    "#In this case the inputs are two lengths representing the length of the other sides of the triangle. \n",
    "#The return value is the length c which represented by a floating point value. \n",
    "#Given the length of the other sides are a and b : \n",
    "#Thus the outline of the function should look like:\n",
    "\n",
    "def hypotenuse(a,b):\n",
    "    return 0.0\n"
   ]
  },
  {
   "cell_type": "code",
   "execution_count": 157,
   "metadata": {},
   "outputs": [
    {
     "name": "stdout",
     "output_type": "stream",
     "text": [
      "sum_squared = 25\n"
     ]
    },
    {
     "data": {
      "text/plain": [
       "0.0"
      ]
     },
     "execution_count": 157,
     "metadata": {},
     "output_type": "execute_result"
    }
   ],
   "source": [
    "#Test the function using sample arguments \n",
    "#assighn a^2+b^2 to a varible sum_squared\n",
    "def hypotenuse(a,b):\n",
    "    sum_squared= a**2 +b**2\n",
    "    print (\"sum_squared =\", sum_squared)\n",
    "    return 0.0\n",
    "\n",
    "hypotenuse(3,4)"
   ]
  },
  {
   "cell_type": "code",
   "execution_count": 158,
   "metadata": {},
   "outputs": [
    {
     "data": {
      "text/plain": [
       "5.0"
      ]
     },
     "execution_count": 158,
     "metadata": {},
     "output_type": "execute_result"
    }
   ],
   "source": [
    "##calculthe the square root \n",
    "import math\n",
    "\n",
    "def hypotenuse(a,b):\n",
    "    sum_squared= a**2 +b**2\n",
    "    result = math.sqrt(sum_squared)\n",
    "    return result\n",
    "hypotenuse(3,4)\n"
   ]
  },
  {
   "cell_type": "code",
   "execution_count": null,
   "metadata": {},
   "outputs": [],
   "source": [
    "##call the function using different arguments \n",
    "import math\n",
    "\n",
    "def hypotenuse(a,b):\n",
    "    sum_squared= a**2 +b**2\n",
    "    result = math.sqrt(sum_squared)\n",
    "    return result\n",
    "        \n",
    "print (\"hypotenuse(3,4) = \", hypotenuse(3,4))\n",
    "print(\"\")\n",
    "print (\"hypotenuse(7,10) = \", hypotenuse(7,10))\n",
    "print(\"\")\n",
    "print (\"hypotenuse(40,30) = \", hypotenuse(20,30))"
   ]
  },
  {
   "cell_type": "code",
   "execution_count": null,
   "metadata": {},
   "outputs": [],
   "source": [
    "####exampl2\n"
   ]
  },
  {
   "cell_type": "code",
   "execution_count": 147,
   "metadata": {},
   "outputs": [],
   "source": [
    "#Quadrantic_equation =(-b±√(b^2-4ac))/2a\n",
    "#Consider the function inputs (parameters) and output (return value) and define the function \n",
    "\n",
    "def quadratic_equation(a,b,c):\n",
    "    return 0.0"
   ]
  },
  {
   "cell_type": "code",
   "execution_count": 148,
   "metadata": {},
   "outputs": [
    {
     "data": {
      "text/plain": [
       "0.0"
      ]
     },
     "execution_count": 148,
     "metadata": {},
     "output_type": "execute_result"
    }
   ],
   "source": [
    "##Test the function using sample arguments: \n",
    "def quadratic_equation(a,b,c):\n",
    "    return 0.0\n",
    "\n",
    "quadratic_equation(3,4,5)"
   ]
  },
  {
   "cell_type": "code",
   "execution_count": 150,
   "metadata": {},
   "outputs": [
    {
     "name": "stdout",
     "output_type": "stream",
     "text": [
      "d is =  -44\n"
     ]
    },
    {
     "data": {
      "text/plain": [
       "0.0"
      ]
     },
     "execution_count": 150,
     "metadata": {},
     "output_type": "execute_result"
    }
   ],
   "source": [
    "#compute b^2-4ac and assign the value to a variable called d \n",
    "#test if the code run without error \n",
    "def quadratic_equation(a,b,c):\n",
    "    d = b**2 - 4*a*c\n",
    "    print(\"d is = \", d )\n",
    "    return 0.0\n",
    "quadratic_equation(3,4,5)"
   ]
  },
  {
   "cell_type": "code",
   "execution_count": null,
   "metadata": {},
   "outputs": [],
   "source": []
  },
  {
   "cell_type": "code",
   "execution_count": 151,
   "metadata": {},
   "outputs": [
    {
     "data": {
      "text/plain": [
       "'d must be positive'"
      ]
     },
     "execution_count": 151,
     "metadata": {},
     "output_type": "execute_result"
    }
   ],
   "source": [
    "#Mathematically it is not possible to have a square root of a negative number. \n",
    "#arguments should result to positive number. \n",
    "##include a condition that  d<0 return a message\n",
    "#test\n",
    "def quadratic_equation(a,b,c):\n",
    "    d = b**2 -4*a*c\n",
    "    if d < 0:\n",
    "        return \"d must be positive\"\n",
    "\n",
    "\n",
    "quadratic_equation(3,2,5)"
   ]
  },
  {
   "cell_type": "code",
   "execution_count": 156,
   "metadata": {},
   "outputs": [
    {
     "name": "stdout",
     "output_type": "stream",
     "text": [
      "f is =  6.324555320336759\n"
     ]
    }
   ],
   "source": [
    "#assign √(b^2-4ac) part of the equation to a variable f. \n",
    "#basically the √d\n",
    "\n",
    "def quadratic_equation(a,b,c):\n",
    "    d = b**2 -4*a*c\n",
    "    if d < 0:\n",
    "        return \"d must be positive\"\n",
    "\n",
    "    else:\n",
    "        f = math.sqrt (d)\n",
    "        print(\"f is = \", f)\n",
    "      \n",
    "quadratic_equation(3,10,5)"
   ]
  },
  {
   "cell_type": "code",
   "execution_count": 152,
   "metadata": {},
   "outputs": [
    {
     "name": "stdout",
     "output_type": "stream",
     "text": [
      "quadratic_equation(3,2,5) = d must be positive\n",
      "\n",
      "quadratic_equation(3,10,5) = (-0.5131670194948619, -19.486832980505138)\n",
      "\n",
      "quadratic_equation(3,10,15) = d must be positive\n"
     ]
    }
   ],
   "source": [
    "#Establish a statement for the  ± part of the equation \n",
    "#test if it works \n",
    "#call the function with different arguments \n",
    "\n",
    "def quadratic_equation(a,b,c):\n",
    "    d = b**2 -4*a*c\n",
    "    if d < 0:\n",
    "        return \"d must be positive\"\n",
    "\n",
    "    else:\n",
    "        f = math.sqrt (d)\n",
    "        result1 = -b + f/2*a\n",
    "        result2 = -b -f/2*a\n",
    "        return result1, result2\n",
    "    \n",
    "  \n",
    "print (\"quadratic_equation(3,2,5) =\", quadratic_equation(3,2,5))\n",
    "print (\"\")\n",
    "\n",
    "print (\"quadratic_equation(3,10,5) =\", quadratic_equation(3,10,5))\n",
    "\n",
    "print (\"\")\n",
    "\n",
    "print (\"quadratic_equation(3,10,15) =\", quadratic_equation(3,10,15))"
   ]
  },
  {
   "cell_type": "code",
   "execution_count": 114,
   "metadata": {},
   "outputs": [],
   "source": []
  }
 ],
 "metadata": {
  "kernelspec": {
   "display_name": "Python 3",
   "language": "python",
   "name": "python3"
  },
  "language_info": {
   "codemirror_mode": {
    "name": "ipython",
    "version": 3
   },
   "file_extension": ".py",
   "mimetype": "text/x-python",
   "name": "python",
   "nbconvert_exporter": "python",
   "pygments_lexer": "ipython3",
   "version": "3.7.6"
  }
 },
 "nbformat": 4,
 "nbformat_minor": 4
}
